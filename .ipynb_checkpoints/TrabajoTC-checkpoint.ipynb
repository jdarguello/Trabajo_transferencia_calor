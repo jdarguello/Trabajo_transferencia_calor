{
 "cells": [
  {
   "cell_type": "markdown",
   "metadata": {},
   "source": [
    "# __Tipos de lenguaje a manejar__\n",
    "\n",
    "Lenguajes de tipografía de texto\n",
    "\n",
    "* Markdown\n",
    "* HTML\n",
    "* LaTeX $\\rightarrow$ Ecuaciones matemáticas\n",
    "\n",
    "## __1. Markdown__\n",
    "\n",
    "¿Cómo hacer listas?\n",
    "\n",
    "* Listas _no numéricas_\n",
    "    * sub1\n",
    "    * sub2\n",
    "1. Listas _numéricas_\n",
    "2. Lista 2\n",
    "\n",
    "## __2. LaTeX__\n",
    "\n",
    "Es un lenguaje de tipografía de textos ampliamente usado para le escritura de libros y artículos científicos.\n",
    "\n",
    "\\begin{equation}\n",
    "    x = 2\n",
    "\\end{equation}\n",
    "\n",
    "* Fracciones\n",
    "\n",
    "\\begin{equation}\n",
    "    x = \\frac{1}{y}\n",
    "\\end{equation}\n",
    "\n",
    "* Exponentes\n",
    "\n",
    "\\begin{equation}\n",
    "    x = 5y ^2\n",
    "\\end{equation}\n",
    "\n",
    "* Derivadas $\\left(\\partial \\right)$\n",
    "\n",
    "\\begin{equation}\n",
    "    z = \\pm \\frac{\\partial x}{\\partial y}\n",
    "\\end{equation}\n",
    "\n",
    "* Ecuaciones largas y \"complejas\"\n",
    "\n",
    "<div align=\"center\">\n",
    "    <img src=\"Imagenes/desvest.jpg\" style=\"width: 450px;\" />\n",
    "</div>\n",
    "<div align=\"center\">\n",
    "    <i>Figura 1.</i> Desviación estándar.\n",
    "</div>"
   ]
  },
  {
   "cell_type": "markdown",
   "metadata": {},
   "source": [
    "\\begin{equation}\n",
    "    s^2 = \\frac{\\sum _{i=1} ^n (x_i - \\bar{x}) ^2}{n-1}\n",
    "\\end{equation}\n",
    "\n",
    "\\begin{equation}\n",
    "    s = \\sqrt{\\frac{\\sum (x_i - \\bar{x})^2}{n-1}}\n",
    "\\end{equation}"
   ]
  },
  {
   "cell_type": "markdown",
   "metadata": {},
   "source": [
    "* Otro ejemplo...\n",
    "\\begin{equation}\n",
    "    z = e^{ln(x)}\n",
    "\\end{equation}\n",
    "\n",
    "<div align=\"justify\">\n",
    "    <h2 align=\"center\"><strong>3. HTML</strong></h2>\n",
    "    HTML es un lenguaje de tipografía de texto <i>exclusivo</i> para <strong>progrmación web</strong>.\n",
    "</div>"
   ]
  },
  {
   "cell_type": "markdown",
   "metadata": {},
   "source": [
    "## __4. Ejemplos de títulos con Markdown y HTML__\n",
    "# Título principal Markdown\n",
    "## Segundo título Markdown\n",
    "### ....\n",
    "\n",
    "<h1>Título principal HTML</h1>\n",
    "<h2>Título secundario HTML</h2>\n",
    "<h3>...</h3>"
   ]
  }
 ],
 "metadata": {
  "kernelspec": {
   "display_name": "Python 3",
   "language": "python",
   "name": "python3"
  },
  "language_info": {
   "codemirror_mode": {
    "name": "ipython",
    "version": 3
   },
   "file_extension": ".py",
   "mimetype": "text/x-python",
   "name": "python",
   "nbconvert_exporter": "python",
   "pygments_lexer": "ipython3",
   "version": "3.7.4"
  }
 },
 "nbformat": 4,
 "nbformat_minor": 4
}
